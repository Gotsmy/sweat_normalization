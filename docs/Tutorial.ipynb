{
 "cells": [
  {
   "cell_type": "markdown",
   "metadata": {},
   "source": [
    "# Size Effect Normalization Tutorial"
   ]
  },
  {
   "cell_type": "markdown",
   "metadata": {},
   "source": [
    "## 1. General Information"
   ]
  },
  {
   "cell_type": "markdown",
   "metadata": {},
   "source": [
    "In this tutorial we explain the use of the ```size_effect_normalization``` package that comes along with our publication \"Probabilistic quotient's work & pharmacokinetics' contribution: countering size effect in metabolic time series measurements\". A preprint of the manuscript is available on bioRxiv [![DOI:10.1101/2022.01.17.476591](https://zenodo.org/badge/DOI/10.1007/978-3-319-76207-4_15.svg)](https://doi.org/10.1101/2022.01.17.476591).\n",
    "\n",
    "The package is divided into three submodules:\n",
    "1. ```size_effect_normalization.extended_model``` contains model classes for PKM and MIX model.\n",
    "2. ```size_effect_normalization.normalization``` continas wrapper that call model classes and optimize them.\n",
    "3. ```size_effect_normalization.synthetic_data_generation``` contains functions for synthetic data generation."
   ]
  },
  {
   "cell_type": "markdown",
   "metadata": {},
   "source": [
    "## 2. Installation"
   ]
  },
  {
   "cell_type": "markdown",
   "metadata": {},
   "source": [
    "For installation of the package clone the git and run ```python setup.py install``` in the base folder. We recommend to use a virtual environment with Python 3.7 and all packages listed in ```requirements.txt```. Subsequently all modules can be imported."
   ]
  },
  {
   "cell_type": "code",
   "execution_count": 1,
   "metadata": {},
   "outputs": [],
   "source": [
    "from size_effect_normalization import extended_model\n",
    "from size_effect_normalization import synthetic_data_generation\n",
    "from size_effect_normalization import normalization"
   ]
  },
  {
   "cell_type": "markdown",
   "metadata": {},
   "source": [
    "Docstrings of all functions can be accessed with ```?<function>```.\n",
    "Other required imports for this tutorial are:"
   ]
  },
  {
   "cell_type": "code",
   "execution_count": 2,
   "metadata": {},
   "outputs": [],
   "source": [
    "import numpy as np\n",
    "# Set seed of RNG\n",
    "np.random.seed(13)"
   ]
  },
  {
   "cell_type": "markdown",
   "metadata": {},
   "source": [
    "## 3. Generate Synthetic Data"
   ]
  },
  {
   "cell_type": "markdown",
   "metadata": {},
   "source": [
    "For this tutorial instead of real data we use synthetically generated data as described in the original manuscript."
   ]
  },
  {
   "cell_type": "markdown",
   "metadata": {},
   "source": [
    "### 3.1 Definition of Data Parameters"
   ]
  },
  {
   "cell_type": "code",
   "execution_count": 3,
   "metadata": {},
   "outputs": [],
   "source": [
    "# We assume that the first four metabolites have a describable kinetic over time.\n",
    "# Definition of basic toy model kinetic parameters.\n",
    "toy_parameters = np.array([[2,.1,1,0,.1],\n",
    "                           [2,.1,2,0,.1],\n",
    "                           [2,.1,3,0,.1],\n",
    "                           [2,.1,.5,0,.1]])\n",
    "n_known_metabolites = toy_parameters.shape[0] # i.e. 4\n",
    "# Definition of time points of toy model\n",
    "timepoints = np.linspace(0,15,20) # i.e. 20 equidistant time points from 0 to 15 h\n",
    "n_timepoints = len(timepoints)\n",
    "# Definition of bounds of pharmacokinetic parameters.\n",
    "bounds_per_metabolite  = [3,3,5,15,3]\n",
    "# Definition of experimental error size (SD/Mean)\n",
    "error_sigma = .2\n",
    "# Definition of the total number of metabolites in the data set.\n",
    "n_metabolites = 60\n",
    "# number of replicates\n",
    "n_replicates = 1"
   ]
  },
  {
   "cell_type": "markdown",
   "metadata": {},
   "source": [
    "### 3.2 Sampling"
   ]
  },
  {
   "cell_type": "code",
   "execution_count": 4,
   "metadata": {},
   "outputs": [
    {
     "name": "stdout",
     "output_type": "stream",
     "text": [
      "(1, 60, 20)\n",
      "(1, 60, 20)\n",
      "(60, 20)\n"
     ]
    }
   ],
   "source": [
    "## SAMPLE VOLUMES (i.e. size effects).\n",
    "v_tensor, v_list = synthetic_data_generation.generate_sweat_volumes(n_replicates,\n",
    "                                                                    n_metabolites,\n",
    "                                                                    n_timepoints)\n",
    "# volume_tensor is the expanded version of shape (n_replicates,n_metabolites,n_timepoints) \n",
    "# of volume_list with the shape (n_replicates,n_timepoints).\n",
    "assert (v_tensor[:,0,:] == v_list[:,:]).all()\n",
    "print(v_tensor.shape)\n",
    "\n",
    "## SAMPLE EXPERIMENTAL ERRORS\n",
    "e_tensor = synthetic_data_generation.generate_experimental_errors(n_replicates=n_replicates,\n",
    "                                                                  n_metabolites=n_metabolites,\n",
    "                                                                  n_timepoints=n_timepoints,\n",
    "                                                                  error_sigma=error_sigma)\n",
    "# In contrast v_tensor, e_tensor does not have repetitive elements in the n_metabolites dimension.\n",
    "print(e_tensor.shape)\n",
    "\n",
    "# SAMPLE MEASURED DATA\n",
    "# Simulation v1 from the manuscript\n",
    "c_tensor = synthetic_data_generation.generate_random_kinetic_data(n_known_metabolites,\n",
    "                                                                  n_metabolites,\n",
    "                                                                  toy_parameters,\n",
    "                                                                  timepoints,\n",
    "                                                                  bounds_per_metabolite)\n",
    "# Simulation v2 from the manuscript\n",
    "c_tensor = synthetic_data_generation.generate_completely_random_data(n_known_metabolites,\n",
    "                                                                     n_metabolites,\n",
    "                                                                     toy_parameters,\n",
    "                                                                     timepoints,\n",
    "                                                                     bounds_per_metabolite)\n",
    "# Simulation v3 from the manuscript\n",
    "c_tensor = synthetic_data_generation.generate_random_from_real_data(n_known_metabolites,\n",
    "                                                                    n_metabolites,\n",
    "                                                                    toy_parameters,\n",
    "                                                                    timepoints,\n",
    "                                                                    bounds_per_metabolite)\n",
    "print(c_tensor.shape)"
   ]
  },
  {
   "cell_type": "markdown",
   "metadata": {},
   "source": [
    "```v_tensor``` and ```e_tensor``` have the shape ```(n_replicates, n_metabolites, n_timepoints)```. ```v_tensor``` has duplicate elements along the ```n_metabolites``` axis.\n",
    "```c_tensor``` has the shape (n_metabolites,n_timepoints). \n",
    "To calculate the synthetic measured mass table they are multiplied."
   ]
  },
  {
   "cell_type": "code",
   "execution_count": 5,
   "metadata": {},
   "outputs": [
    {
     "name": "stdout",
     "output_type": "stream",
     "text": [
      "(60, 20)\n"
     ]
    }
   ],
   "source": [
    "# calculate M_tilde\n",
    "m_tensor = c_tensor * v_tensor[0,:,:] * e_tensor[0,:,:]\n",
    "print(m_tensor.shape)"
   ]
  },
  {
   "cell_type": "markdown",
   "metadata": {},
   "source": [
    "## 4. Size Effect Normalization"
   ]
  },
  {
   "cell_type": "markdown",
   "metadata": {},
   "source": [
    " For this tutorial PQN, PKM<sub>minimal</sub> as well as MIX<sub>minimal</sub> normalization was performed with optimization parameters as described in the manuscript."
   ]
  },
  {
   "cell_type": "code",
   "execution_count": 6,
   "metadata": {},
   "outputs": [
    {
     "name": "stderr",
     "output_type": "stream",
     "text": [
      "100%|██████████| 10/10 [00:01<00:00,  6.23it/s]\n",
      "100%|██████████| 10/10 [00:02<00:00,  3.95it/s]\n"
     ]
    }
   ],
   "source": [
    "## CREATE BOUNDS FOR THE MODEL\n",
    "# mini model\n",
    "mini_lb = np.concatenate((np.zeros(5*n_known_metabolites),np.ones(n_timepoints)*.05))\n",
    "mini_ub = np.concatenate((bounds_per_metabolite*n_known_metabolites,np.ones(n_timepoints)*4))\n",
    "# the bounds for known parameteres are set to the true values + precision of the optimization function.\n",
    "for p in [2,3,4]:\n",
    "    mini_lb[:n_known_metabolites*5][p::5] = toy_parameters[:,p]\n",
    "    mini_ub[:n_known_metabolites*5][p::5] = toy_parameters[:,p]+10e-8\n",
    "    \n",
    "## OPTIMIZATION PARAMETERS\n",
    "n_cpu = 1\n",
    "n_mc_replicates = 10\n",
    "mini_lambda = 1/(n_known_metabolites+1)\n",
    "    \n",
    "## NORMALIZE FOR SWEAT VOLUME\n",
    "# PQN\n",
    "v_pqn                      = normalization.calculate_pqn(m_tensor)\n",
    "# PKM\n",
    "v_pkm_mini, pkm_mini_model = normalization.calculate_pkm(m_tensor[:n_known_metabolites,:], # only the first 4 metabolites are used for kinetic fitting: mini model\n",
    "                                                         mini_lb,mini_ub,                  # parameter bounds\n",
    "                                                         timepoints,                       # time point vector\n",
    "                                                         n_known_metabolites,              # number of known metabolites, i.e 4\n",
    "                                                         n_cpu,                            # number of CPUs to use, i.e 1\n",
    "                                                         n_mc_replicates,                  # number of Monte Carlo replicates for optimization\n",
    "                                                         'max_cauchy_loss',                # Loss name\n",
    "                                                         'none',                           # transformation function\n",
    "                                                         mini_lambda)                      # lambda\n",
    "# MIX\n",
    "v_mix_mini, mix_mini_model = normalization.calculate_mix(m_tensor[:4,:],                   # only the first 4 metabolites are used for kinetic fitting: mini model\n",
    "                                                         v_pqn,                            # PQN results\n",
    "                                                         mini_lb,mini_ub,                  # parameter bounds\n",
    "                                                         timepoints,                       # time point vector\n",
    "                                                         n_known_metabolites,              # number of known metabolites, i.e 4\n",
    "                                                         n_cpu,                            # number of CPUs to use, i.e 1\n",
    "                                                         n_mc_replicates,                  # number of Monte Carlo replicates for optimization\n",
    "                                                         'cauchy_loss',                    # Loss name\n",
    "                                                         'log10',                          # transformation function\n",
    "                                                         'standard',                       # scaling function\n",
    "                                                         mini_lambda)                      # lambda"
   ]
  },
  {
   "cell_type": "markdown",
   "metadata": {},
   "source": [
    "```<MIX_model>.get_sweat_volumes()``` can be called to get the estimated size effect volumes."
   ]
  },
  {
   "cell_type": "code",
   "execution_count": 7,
   "metadata": {},
   "outputs": [
    {
     "data": {
      "text/plain": [
       "array([0.72004742, 2.15850848, 1.1595772 , 1.64176852, 2.9131256 ,\n",
       "       1.76553713, 3.05393397, 2.2016172 , 2.90195239, 0.51357463,\n",
       "       0.63392759, 0.41319098, 1.50371188, 0.98762766, 2.3255772 ,\n",
       "       1.42501868, 1.33349867, 1.91792571, 1.06824277, 0.56653971])"
      ]
     },
     "execution_count": 7,
     "metadata": {},
     "output_type": "execute_result"
    }
   ],
   "source": [
    "mix_mini_model.get_sweat_volumes()"
   ]
  },
  {
   "cell_type": "markdown",
   "metadata": {},
   "source": [
    "General information of the model is printed by calling ```<MIX_model.info()```."
   ]
  },
  {
   "cell_type": "code",
   "execution_count": 8,
   "metadata": {},
   "outputs": [
    {
     "data": {
      "text/html": [
       "<div>\n",
       "<style scoped>\n",
       "    .dataframe tbody tr th:only-of-type {\n",
       "        vertical-align: middle;\n",
       "    }\n",
       "\n",
       "    .dataframe tbody tr th {\n",
       "        vertical-align: top;\n",
       "    }\n",
       "\n",
       "    .dataframe thead th {\n",
       "        text-align: right;\n",
       "    }\n",
       "</style>\n",
       "<table border=\"1\" class=\"dataframe\">\n",
       "  <thead>\n",
       "    <tr style=\"text-align: right;\">\n",
       "      <th></th>\n",
       "      <th>MIX Model</th>\n",
       "    </tr>\n",
       "  </thead>\n",
       "  <tbody>\n",
       "    <tr>\n",
       "      <th>n_metabolites</th>\n",
       "      <td>4</td>\n",
       "    </tr>\n",
       "    <tr>\n",
       "      <th>n_timepoints</th>\n",
       "      <td>20</td>\n",
       "    </tr>\n",
       "    <tr>\n",
       "      <th>pkm_fun</th>\n",
       "      <td>bateman</td>\n",
       "    </tr>\n",
       "    <tr>\n",
       "      <th>trans_fun</th>\n",
       "      <td>log10</td>\n",
       "    </tr>\n",
       "    <tr>\n",
       "      <th>scale_fun</th>\n",
       "      <td>standard</td>\n",
       "    </tr>\n",
       "    <tr>\n",
       "      <th>parameters</th>\n",
       "      <td>40</td>\n",
       "    </tr>\n",
       "    <tr>\n",
       "      <th>bounds</th>\n",
       "      <td>True</td>\n",
       "    </tr>\n",
       "    <tr>\n",
       "      <th>measured data</th>\n",
       "      <td>True</td>\n",
       "    </tr>\n",
       "    <tr>\n",
       "      <th>metabolite names</th>\n",
       "      <td>False</td>\n",
       "    </tr>\n",
       "    <tr>\n",
       "      <th>is optimized</th>\n",
       "      <td>True</td>\n",
       "    </tr>\n",
       "    <tr>\n",
       "      <th>optimization loss</th>\n",
       "      <td>0.022433</td>\n",
       "    </tr>\n",
       "  </tbody>\n",
       "</table>\n",
       "</div>"
      ],
      "text/plain": [
       "                  MIX Model\n",
       "n_metabolites             4\n",
       "n_timepoints             20\n",
       "pkm_fun             bateman\n",
       "trans_fun             log10\n",
       "scale_fun          standard\n",
       "parameters               40\n",
       "bounds                 True\n",
       "measured data          True\n",
       "metabolite names      False\n",
       "is optimized           True\n",
       "optimization loss  0.022433"
      ]
     },
     "execution_count": 8,
     "metadata": {},
     "output_type": "execute_result"
    }
   ],
   "source": [
    "mix_mini_model.info()"
   ]
  },
  {
   "cell_type": "markdown",
   "metadata": {},
   "source": [
    "Normalized (i.e. C) values for the metabolites used for modeling are generated by calling ```<MIX_model>.get_C_df()```. (Setting Metabolite names is required beforehand)."
   ]
  },
  {
   "cell_type": "code",
   "execution_count": 9,
   "metadata": {},
   "outputs": [
    {
     "data": {
      "text/html": [
       "<div>\n",
       "<style scoped>\n",
       "    .dataframe tbody tr th:only-of-type {\n",
       "        vertical-align: middle;\n",
       "    }\n",
       "\n",
       "    .dataframe tbody tr th {\n",
       "        vertical-align: top;\n",
       "    }\n",
       "\n",
       "    .dataframe thead th {\n",
       "        text-align: right;\n",
       "    }\n",
       "</style>\n",
       "<table border=\"1\" class=\"dataframe\">\n",
       "  <thead>\n",
       "    <tr style=\"text-align: right;\">\n",
       "      <th></th>\n",
       "      <th>time</th>\n",
       "      <th>Metabolite 1</th>\n",
       "      <th>Metabolite 2</th>\n",
       "      <th>Metabolite 3</th>\n",
       "      <th>Metabolite 4</th>\n",
       "    </tr>\n",
       "  </thead>\n",
       "  <tbody>\n",
       "    <tr>\n",
       "      <th>0</th>\n",
       "      <td>0.000000</td>\n",
       "      <td>0.100000</td>\n",
       "      <td>0.100000</td>\n",
       "      <td>0.100000</td>\n",
       "      <td>0.100000</td>\n",
       "    </tr>\n",
       "    <tr>\n",
       "      <th>1</th>\n",
       "      <td>0.789474</td>\n",
       "      <td>0.940477</td>\n",
       "      <td>1.472053</td>\n",
       "      <td>1.588787</td>\n",
       "      <td>0.431600</td>\n",
       "    </tr>\n",
       "    <tr>\n",
       "      <th>2</th>\n",
       "      <td>1.578947</td>\n",
       "      <td>0.972801</td>\n",
       "      <td>1.762080</td>\n",
       "      <td>2.188761</td>\n",
       "      <td>0.506321</td>\n",
       "    </tr>\n",
       "    <tr>\n",
       "      <th>3</th>\n",
       "      <td>2.368421</td>\n",
       "      <td>0.917613</td>\n",
       "      <td>1.753107</td>\n",
       "      <td>2.370393</td>\n",
       "      <td>0.505039</td>\n",
       "    </tr>\n",
       "    <tr>\n",
       "      <th>4</th>\n",
       "      <td>3.157895</td>\n",
       "      <td>0.856888</td>\n",
       "      <td>1.666075</td>\n",
       "      <td>2.359192</td>\n",
       "      <td>0.482549</td>\n",
       "    </tr>\n",
       "    <tr>\n",
       "      <th>5</th>\n",
       "      <td>3.947368</td>\n",
       "      <td>0.799657</td>\n",
       "      <td>1.563002</td>\n",
       "      <td>2.262942</td>\n",
       "      <td>0.455351</td>\n",
       "    </tr>\n",
       "    <tr>\n",
       "      <th>6</th>\n",
       "      <td>4.736842</td>\n",
       "      <td>0.746637</td>\n",
       "      <td>1.460997</td>\n",
       "      <td>2.132870</td>\n",
       "      <td>0.428320</td>\n",
       "    </tr>\n",
       "    <tr>\n",
       "      <th>7</th>\n",
       "      <td>5.526316</td>\n",
       "      <td>0.697621</td>\n",
       "      <td>1.364497</td>\n",
       "      <td>1.993057</td>\n",
       "      <td>0.402813</td>\n",
       "    </tr>\n",
       "    <tr>\n",
       "      <th>8</th>\n",
       "      <td>6.315789</td>\n",
       "      <td>0.652320</td>\n",
       "      <td>1.274385</td>\n",
       "      <td>1.854574</td>\n",
       "      <td>0.379126</td>\n",
       "    </tr>\n",
       "    <tr>\n",
       "      <th>9</th>\n",
       "      <td>7.105263</td>\n",
       "      <td>0.610452</td>\n",
       "      <td>1.190567</td>\n",
       "      <td>1.722276</td>\n",
       "      <td>0.357243</td>\n",
       "    </tr>\n",
       "    <tr>\n",
       "      <th>10</th>\n",
       "      <td>7.894737</td>\n",
       "      <td>0.571758</td>\n",
       "      <td>1.112695</td>\n",
       "      <td>1.598067</td>\n",
       "      <td>0.337061</td>\n",
       "    </tr>\n",
       "    <tr>\n",
       "      <th>11</th>\n",
       "      <td>8.684211</td>\n",
       "      <td>0.535997</td>\n",
       "      <td>1.040373</td>\n",
       "      <td>1.482462</td>\n",
       "      <td>0.318458</td>\n",
       "    </tr>\n",
       "    <tr>\n",
       "      <th>12</th>\n",
       "      <td>9.473684</td>\n",
       "      <td>0.502947</td>\n",
       "      <td>0.973213</td>\n",
       "      <td>1.375344</td>\n",
       "      <td>0.301313</td>\n",
       "    </tr>\n",
       "    <tr>\n",
       "      <th>13</th>\n",
       "      <td>10.263158</td>\n",
       "      <td>0.472402</td>\n",
       "      <td>0.910849</td>\n",
       "      <td>1.276317</td>\n",
       "      <td>0.285513</td>\n",
       "    </tr>\n",
       "    <tr>\n",
       "      <th>14</th>\n",
       "      <td>11.052632</td>\n",
       "      <td>0.444173</td>\n",
       "      <td>0.852938</td>\n",
       "      <td>1.184878</td>\n",
       "      <td>0.270954</td>\n",
       "    </tr>\n",
       "    <tr>\n",
       "      <th>15</th>\n",
       "      <td>11.842105</td>\n",
       "      <td>0.418083</td>\n",
       "      <td>0.799163</td>\n",
       "      <td>1.100499</td>\n",
       "      <td>0.257537</td>\n",
       "    </tr>\n",
       "    <tr>\n",
       "      <th>16</th>\n",
       "      <td>12.631579</td>\n",
       "      <td>0.393971</td>\n",
       "      <td>0.749229</td>\n",
       "      <td>1.022660</td>\n",
       "      <td>0.245172</td>\n",
       "    </tr>\n",
       "    <tr>\n",
       "      <th>17</th>\n",
       "      <td>13.421053</td>\n",
       "      <td>0.371687</td>\n",
       "      <td>0.702861</td>\n",
       "      <td>0.950866</td>\n",
       "      <td>0.233779</td>\n",
       "    </tr>\n",
       "    <tr>\n",
       "      <th>18</th>\n",
       "      <td>14.210526</td>\n",
       "      <td>0.351092</td>\n",
       "      <td>0.659805</td>\n",
       "      <td>0.884652</td>\n",
       "      <td>0.223279</td>\n",
       "    </tr>\n",
       "    <tr>\n",
       "      <th>19</th>\n",
       "      <td>15.000000</td>\n",
       "      <td>0.332059</td>\n",
       "      <td>0.619824</td>\n",
       "      <td>0.823589</td>\n",
       "      <td>0.213604</td>\n",
       "    </tr>\n",
       "  </tbody>\n",
       "</table>\n",
       "</div>"
      ],
      "text/plain": [
       "         time  Metabolite 1  Metabolite 2  Metabolite 3  Metabolite 4\n",
       "0    0.000000      0.100000      0.100000      0.100000      0.100000\n",
       "1    0.789474      0.940477      1.472053      1.588787      0.431600\n",
       "2    1.578947      0.972801      1.762080      2.188761      0.506321\n",
       "3    2.368421      0.917613      1.753107      2.370393      0.505039\n",
       "4    3.157895      0.856888      1.666075      2.359192      0.482549\n",
       "5    3.947368      0.799657      1.563002      2.262942      0.455351\n",
       "6    4.736842      0.746637      1.460997      2.132870      0.428320\n",
       "7    5.526316      0.697621      1.364497      1.993057      0.402813\n",
       "8    6.315789      0.652320      1.274385      1.854574      0.379126\n",
       "9    7.105263      0.610452      1.190567      1.722276      0.357243\n",
       "10   7.894737      0.571758      1.112695      1.598067      0.337061\n",
       "11   8.684211      0.535997      1.040373      1.482462      0.318458\n",
       "12   9.473684      0.502947      0.973213      1.375344      0.301313\n",
       "13  10.263158      0.472402      0.910849      1.276317      0.285513\n",
       "14  11.052632      0.444173      0.852938      1.184878      0.270954\n",
       "15  11.842105      0.418083      0.799163      1.100499      0.257537\n",
       "16  12.631579      0.393971      0.749229      1.022660      0.245172\n",
       "17  13.421053      0.371687      0.702861      0.950866      0.233779\n",
       "18  14.210526      0.351092      0.659805      0.884652      0.223279\n",
       "19  15.000000      0.332059      0.619824      0.823589      0.213604"
      ]
     },
     "execution_count": 9,
     "metadata": {},
     "output_type": "execute_result"
    }
   ],
   "source": [
    "mix_mini_model.set_metabolite_names([f'Metabolite {i+1}' for i in range(4)])\n",
    "mix_mini_model.get_C_df()"
   ]
  },
  {
   "cell_type": "markdown",
   "metadata": {},
   "source": [
    "## 5 Analysis"
   ]
  },
  {
   "cell_type": "markdown",
   "metadata": {},
   "source": [
    "The true synthetic and the estimated size effect volumes can now be compared with the two comparison metrics described in the manuscript:"
   ]
  },
  {
   "cell_type": "code",
   "execution_count": 10,
   "metadata": {},
   "outputs": [
    {
     "name": "stdout",
     "output_type": "stream",
     "text": [
      "---------------------------\n",
      "METHOD   |   RMSE  |  rRMSE\n",
      "---------------------------\n",
      "PQN      |     --  |  0.059\n",
      "PKM_mini |   0.271 |  0.106\n",
      "MIX_mini |   0.108 |  0.057\n",
      "---------------------------\n"
     ]
    }
   ],
   "source": [
    "def RMSE(true,fit):\n",
    "    return np.sqrt(np.sum((true-fit)**2)/len(true))\n",
    "\n",
    "def rRMSE(true,fit):\n",
    "    y = fit/true\n",
    "    return np.std(y/np.mean(y))\n",
    "\n",
    "print('---------------------------')\n",
    "print('METHOD   |   RMSE  |  rRMSE')\n",
    "print('---------------------------')\n",
    "print('PQN      |  {:6} | {:6.3f}'.format('   -- ',rRMSE(v_list[0],v_pqn)))\n",
    "print('PKM_mini |  {:6.3f} | {:6.3f}'.format(RMSE(v_list[0],v_pkm_mini),rRMSE(v_list[0],v_pkm_mini)))\n",
    "print('MIX_mini |  {:6.3f} | {:6.3f}'.format(RMSE(v_list[0],v_mix_mini),rRMSE(v_list[0],v_mix_mini)))\n",
    "print('---------------------------')"
   ]
  },
  {
   "cell_type": "markdown",
   "metadata": {},
   "source": [
    "MXI<sub>minimal</sub> outperforms PQN and PQN<sub>minimal</sub> in RMSE as well as rRMSE."
   ]
  }
 ],
 "metadata": {
  "kernelspec": {
   "display_name": "2206test3.7",
   "language": "python",
   "name": "2206test3.7"
  },
  "language_info": {
   "codemirror_mode": {
    "name": "ipython",
    "version": 3
   },
   "file_extension": ".py",
   "mimetype": "text/x-python",
   "name": "python",
   "nbconvert_exporter": "python",
   "pygments_lexer": "ipython3",
   "version": "3.7.13"
  },
  "toc-autonumbering": false
 },
 "nbformat": 4,
 "nbformat_minor": 4
}
