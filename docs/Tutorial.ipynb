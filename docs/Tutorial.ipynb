{
 "cells": [
  {
   "cell_type": "markdown",
   "metadata": {},
   "source": [
    "# Size Effect Normalization Tutorial"
   ]
  },
  {
   "cell_type": "markdown",
   "metadata": {},
   "source": [
    "## 1. General Information"
   ]
  },
  {
   "cell_type": "markdown",
   "metadata": {},
   "source": [
    "In this tutorial we explain the use of the ```size_effect_normalization``` package that comes along with our publication \"Probabilistic quotient's work & pharmacokinetics' contribution: countering size effect in metabolic time series measurements\". A preprint of the manuscript is available on bioRxiv [![DOI:10.1101/2022.01.17.476591](https://zenodo.org/badge/DOI/10.1007/978-3-319-76207-4_15.svg)](https://doi.org/10.1101/2022.01.17.476591).\n",
    "\n",
    "The package is divided into three submodules:\n",
    "1. ```size_effect_normalization.extended_model``` contains model classes for PKM and MIX model.\n",
    "2. ```size_effect_normalization.normalization``` continas wrapper that call model classes and optimize them.\n",
    "3. ```size_effect_normalization.synthetic_data_generation``` contains functions for synthetic data gerneration."
   ]
  },
  {
   "cell_type": "markdown",
   "metadata": {},
   "source": [
    "## 2. Installation"
   ]
  },
  {
   "cell_type": "markdown",
   "metadata": {},
   "source": [
    "For installation of the package clone the git and run ```python setup.py install``` in the base folder. We recommend to use a virtual environment with Python 3.7 and all packages listed in ```requirements.txt```. Subsequently all modules can be imported."
   ]
  },
  {
   "cell_type": "code",
   "execution_count": 1,
   "metadata": {},
   "outputs": [],
   "source": [
    "from size_effect_normalization import extended_model\n",
    "from size_effect_normalization import synthetic_data_generation\n",
    "from size_effect_normalization import normalization"
   ]
  },
  {
   "cell_type": "markdown",
   "metadata": {},
   "source": [
    "Docstrings of all functions can be accessed with ```?<function>```.\n",
    "Other required imports for this tutorial are:"
   ]
  },
  {
   "cell_type": "code",
   "execution_count": 2,
   "metadata": {},
   "outputs": [],
   "source": [
    "import numpy as np"
   ]
  },
  {
   "cell_type": "markdown",
   "metadata": {},
   "source": [
    "## 3. Generate Synthetic Data"
   ]
  },
  {
   "cell_type": "markdown",
   "metadata": {},
   "source": [
    "For this tutorial instead of real data we use synthetically generated data as described in the original manuscript."
   ]
  },
  {
   "cell_type": "markdown",
   "metadata": {},
   "source": [
    "### 3.1 Definition of Data Parameters"
   ]
  },
  {
   "cell_type": "code",
   "execution_count": 10,
   "metadata": {},
   "outputs": [],
   "source": [
    "# We assume that the first four metabolites have a describable kinetic over time.\n",
    "# Definition of basic toy model kinetic parameters.\n",
    "toy_parameters = np.array([[2,.1,1,0,.1],\n",
    "                            [2,.1,2,0,.1],\n",
    "                            [2,.1,3,0,.1],\n",
    "                            [2,.1,.5,0,.1]])\n",
    "n_known_metabolites = toy_parameters.shape[0]\n",
    "# Definition of time points of toy model\n",
    "timepoints = np.linspace(0,15,20)\n",
    "n_timepoints        = len(timepoints)\n",
    "# Set seed of rng\n",
    "np.random.seed(13)\n",
    "# Definition of bounds of pharmacokinetic parameters.\n",
    "bounds_per_metabolite  = [3,3,5,15,3]\n",
    "# Definition of error size (SD/Mean)\n",
    "error_sigma = .2\n",
    "# Definition of the total number of metabolites in the data set.\n",
    "n_metabolites = 60\n",
    "# number of replicates\n",
    "n_replicates = 1"
   ]
  },
  {
   "cell_type": "markdown",
   "metadata": {},
   "source": [
    "### 3.2 Sampling"
   ]
  },
  {
   "cell_type": "code",
   "execution_count": 11,
   "metadata": {},
   "outputs": [
    {
     "name": "stdout",
     "output_type": "stream",
     "text": [
      "(1, 60, 20)\n",
      "(1, 60, 20)\n",
      "(60, 20)\n"
     ]
    }
   ],
   "source": [
    "# Sample volumes (i.e. size effects).\n",
    "v_tensor, v_list = synthetic_data_generation.generate_sweat_volumes(n_replicates =n_replicates,\n",
    "                                                                    n_metabolites=n_metabolites,\n",
    "                                                                    n_timepoints =n_timepoints)\n",
    "# volume_tensor is the expanded version of shape (n_replicates,n_metabolites,n_timepoints) of volume_list with the shape (n_replicates,n_timepoints).\n",
    "assert (v_tensor[:,0,:] == v_list[:,:]).all()\n",
    "print(v_tensor.shape)\n",
    "\n",
    "# Sample experimental errors\n",
    "e_tensor = synthetic_data_generation.generate_experimental_errors(n_replicates=n_replicates,\n",
    "                                                                  n_metabolites=n_metabolites,\n",
    "                                                                  n_timepoints=n_timepoints,\n",
    "                                                                  error_sigma=error_sigma)\n",
    "# In contrast to v_t_list, e_list does not have repetitive elements in the n_metabolites dimension.\n",
    "print(e_tensor.shape)\n",
    "\n",
    "# Sample measured data.\n",
    "# Simulation v1 from the manuscript\n",
    "c_tensor = synthetic_data_generation.generate_random_kinetic_data(n_known_metabolites,\n",
    "                                                                  n_metabolites,\n",
    "                                                                  toy_parameters,\n",
    "                                                                  timepoints,\n",
    "                                                                  bounds_per_metabolite)\n",
    "# Simulation v2 from the manuscript\n",
    "c_tensor = synthetic_data_generation.generate_completely_random_data(n_known_metabolites,\n",
    "                                                                     n_metabolites,\n",
    "                                                                     toy_parameters,\n",
    "                                                                     timepoints,\n",
    "                                                                     bounds_per_metabolite)\n",
    "# Simulation v3 from the manuscript\n",
    "c_tensor = synthetic_data_generation.generate_random_from_real_data(n_known_metabolites,\n",
    "                                                                    n_metabolites,\n",
    "                                                                    toy_parameters,\n",
    "                                                                    timepoints,\n",
    "                                                                    bounds_per_metabolite)\n",
    "print(c_tensor.shape)"
   ]
  },
  {
   "cell_type": "markdown",
   "metadata": {},
   "source": [
    "```v_tensor``` and ```e_tensor``` have the shape ```(n_replicates, n_metabolites, n_timepoints)```. ```v_tensor``` has duplicate elements along the ```n_metabolites``` axis.\n",
    "```c_tensor``` has the shape (n_metabolites,n_timepoints). \n",
    "To calculate the synthetic measured mass table they are multiplied."
   ]
  },
  {
   "cell_type": "code",
   "execution_count": 12,
   "metadata": {},
   "outputs": [
    {
     "name": "stdout",
     "output_type": "stream",
     "text": [
      "(60, 20)\n"
     ]
    }
   ],
   "source": [
    "# calculate M_tilde\n",
    "m_tensor = c_tensor * v_tensor[0,:,:] * e_tensor[0,:,:]\n",
    "print(m_tensor.shape)"
   ]
  },
  {
   "cell_type": "markdown",
   "metadata": {},
   "source": [
    "## 4. Size Effect Normalization"
   ]
  },
  {
   "cell_type": "code",
   "execution_count": null,
   "metadata": {},
   "outputs": [],
   "source": []
  },
  {
   "cell_type": "code",
   "execution_count": null,
   "metadata": {},
   "outputs": [],
   "source": []
  }
 ],
 "metadata": {
  "kernelspec": {
   "display_name": "2206test3.7",
   "language": "python",
   "name": "2206test3.7"
  },
  "language_info": {
   "codemirror_mode": {
    "name": "ipython",
    "version": 3
   },
   "file_extension": ".py",
   "mimetype": "text/x-python",
   "name": "python",
   "nbconvert_exporter": "python",
   "pygments_lexer": "ipython3",
   "version": "3.7.13"
  },
  "toc-autonumbering": false
 },
 "nbformat": 4,
 "nbformat_minor": 4
}
